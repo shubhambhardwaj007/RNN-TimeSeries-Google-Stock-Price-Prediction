{
 "cells": [
  {
   "cell_type": "code",
   "execution_count": null,
   "id": "5a469fa9",
   "metadata": {},
   "outputs": [],
   "source": [
    "import pandas as pd\n",
    "import matplotlib.pyplot as plt\n",
    "import numpy as np\n",
    "from sklearn.preprocessing import MinMaxScaler"
   ]
  },
  {
   "cell_type": "code",
   "execution_count": null,
   "id": "033974e9",
   "metadata": {},
   "outputs": [],
   "source": [
    "dataset = pd.read_csv(\"GOOG.csv\")"
   ]
  },
  {
   "cell_type": "code",
   "execution_count": null,
   "id": "fc6913fc",
   "metadata": {},
   "outputs": [],
   "source": [
    "dataset"
   ]
  },
  {
   "cell_type": "code",
   "execution_count": null,
   "id": "3030c323",
   "metadata": {},
   "outputs": [],
   "source": [
    "dataset.shape"
   ]
  },
  {
   "cell_type": "code",
   "execution_count": null,
   "id": "ffa61956",
   "metadata": {},
   "outputs": [],
   "source": [
    "dataset = dataset['Open']"
   ]
  },
  {
   "cell_type": "code",
   "execution_count": null,
   "id": "3e6d9868",
   "metadata": {},
   "outputs": [],
   "source": [
    "dataset = np.array(dataset)"
   ]
  },
  {
   "cell_type": "code",
   "execution_count": null,
   "id": "756efbd7",
   "metadata": {},
   "outputs": [],
   "source": [
    "dataset.shape"
   ]
  },
  {
   "cell_type": "code",
   "execution_count": null,
   "id": "0445a985",
   "metadata": {},
   "outputs": [],
   "source": [
    "dataset = dataset.reshape((-1,1))\n",
    "normalizer = MinMaxScaler(feature_range=(0,1))\n",
    "dataset = normalizer.fit_transform(dataset)"
   ]
  },
  {
   "cell_type": "code",
   "execution_count": null,
   "id": "341acf34",
   "metadata": {},
   "outputs": [],
   "source": [
    "dataset"
   ]
  },
  {
   "cell_type": "code",
   "execution_count": null,
   "id": "42850e8b",
   "metadata": {},
   "outputs": [],
   "source": [
    "dataset.shape"
   ]
  },
  {
   "cell_type": "code",
   "execution_count": null,
   "id": "9b216d31",
   "metadata": {},
   "outputs": [],
   "source": [
    "plt.plot(dataset)"
   ]
  },
  {
   "cell_type": "code",
   "execution_count": null,
   "id": "ec0b5141",
   "metadata": {},
   "outputs": [],
   "source": [
    "training_dataset = dataset[:4000]"
   ]
  },
  {
   "cell_type": "code",
   "execution_count": null,
   "id": "fe72d60a",
   "metadata": {},
   "outputs": [],
   "source": [
    "training_dataset.shape"
   ]
  },
  {
   "cell_type": "code",
   "execution_count": null,
   "id": "196eaf58",
   "metadata": {},
   "outputs": [],
   "source": [
    "testing_dataset = dataset[4000:]"
   ]
  },
  {
   "cell_type": "code",
   "execution_count": null,
   "id": "c8fc7e24",
   "metadata": {},
   "outputs": [],
   "source": [
    "testing_dataset.shape"
   ]
  },
  {
   "cell_type": "code",
   "execution_count": null,
   "id": "49aedff0",
   "metadata": {},
   "outputs": [],
   "source": [
    "plt.plot(training_dataset)"
   ]
  },
  {
   "cell_type": "code",
   "execution_count": null,
   "id": "3d66aeff",
   "metadata": {},
   "outputs": [],
   "source": [
    "plt.plot(testing_dataset)"
   ]
  },
  {
   "cell_type": "code",
   "execution_count": null,
   "id": "e0b8b219",
   "metadata": {},
   "outputs": [],
   "source": [
    "def create_dataset(data,step):\n",
    "    x=[]\n",
    "    y=[]\n",
    "    for i in range(len(data)-step):\n",
    "        x.append(data[i:i+step])\n",
    "        y.append(data[i+step])\n",
    "    return np.array(x),np.array(y)\n",
    "        "
   ]
  },
  {
   "cell_type": "code",
   "execution_count": null,
   "id": "06096250",
   "metadata": {},
   "outputs": [],
   "source": [
    "trainX , trainY = create_dataset(training_dataset,60)"
   ]
  },
  {
   "cell_type": "code",
   "execution_count": null,
   "id": "d4c3bf4b",
   "metadata": {},
   "outputs": [],
   "source": [
    "trainX.shape"
   ]
  },
  {
   "cell_type": "code",
   "execution_count": null,
   "id": "0bc674c5",
   "metadata": {},
   "outputs": [],
   "source": [
    "trainY.shape"
   ]
  },
  {
   "cell_type": "code",
   "execution_count": null,
   "id": "4541fdf1",
   "metadata": {},
   "outputs": [],
   "source": [
    "testX , testY = create_dataset(testing_dataset,60)"
   ]
  },
  {
   "cell_type": "code",
   "execution_count": null,
   "id": "ed7512d3",
   "metadata": {},
   "outputs": [],
   "source": [
    "from keras import Sequential\n",
    "from keras.layers import Dense\n",
    "from keras.layers import LSTM"
   ]
  },
  {
   "cell_type": "code",
   "execution_count": null,
   "id": "18511ff6",
   "metadata": {},
   "outputs": [],
   "source": [
    "model = Sequential()"
   ]
  },
  {
   "cell_type": "code",
   "execution_count": null,
   "id": "ef4ab55e",
   "metadata": {},
   "outputs": [],
   "source": [
    "model.add(LSTM(units=60,return_sequences=True,input_shape=(60,1)))"
   ]
  },
  {
   "cell_type": "code",
   "execution_count": null,
   "id": "7c92b8bd",
   "metadata": {},
   "outputs": [],
   "source": [
    "model.get_config()"
   ]
  },
  {
   "cell_type": "code",
   "execution_count": null,
   "id": "20e42c3f",
   "metadata": {},
   "outputs": [],
   "source": [
    "model.add(LSTM(units=60,return_sequences=True))"
   ]
  },
  {
   "cell_type": "code",
   "execution_count": null,
   "id": "c88768e7",
   "metadata": {},
   "outputs": [],
   "source": [
    "model.add(LSTM(units=60))"
   ]
  },
  {
   "cell_type": "code",
   "execution_count": null,
   "id": "17025668",
   "metadata": {},
   "outputs": [],
   "source": [
    "model.add(Dense(units=1,activation=\"linear\"))"
   ]
  },
  {
   "cell_type": "code",
   "execution_count": null,
   "id": "9325e6e3",
   "metadata": {},
   "outputs": [],
   "source": [
    "model.compile(loss='mean_squared_error',optimizer=\"adam\")"
   ]
  },
  {
   "cell_type": "code",
   "execution_count": null,
   "id": "1450a2e1",
   "metadata": {},
   "outputs": [],
   "source": [
    "model.fit(trainX,trainY,epochs=56)"
   ]
  },
  {
   "cell_type": "code",
   "execution_count": null,
   "id": "7571c2d1",
   "metadata": {},
   "outputs": [],
   "source": [
    "trainX.shape"
   ]
  },
  {
   "cell_type": "code",
   "execution_count": null,
   "id": "21f04f4f",
   "metadata": {},
   "outputs": [],
   "source": []
  },
  {
   "cell_type": "code",
   "execution_count": null,
   "id": "4c182f48",
   "metadata": {},
   "outputs": [],
   "source": []
  },
  {
   "cell_type": "code",
   "execution_count": null,
   "id": "5a4ad97b",
   "metadata": {},
   "outputs": [],
   "source": []
  },
  {
   "cell_type": "code",
   "execution_count": null,
   "id": "ec180720",
   "metadata": {},
   "outputs": [],
   "source": []
  }
 ],
 "metadata": {
  "kernelspec": {
   "display_name": "Python 3",
   "language": "python",
   "name": "python3"
  },
  "language_info": {
   "codemirror_mode": {
    "name": "ipython",
    "version": 3
   },
   "file_extension": ".py",
   "mimetype": "text/x-python",
   "name": "python",
   "nbconvert_exporter": "python",
   "pygments_lexer": "ipython3",
   "version": "3.7.10"
  }
 },
 "nbformat": 4,
 "nbformat_minor": 5
}
