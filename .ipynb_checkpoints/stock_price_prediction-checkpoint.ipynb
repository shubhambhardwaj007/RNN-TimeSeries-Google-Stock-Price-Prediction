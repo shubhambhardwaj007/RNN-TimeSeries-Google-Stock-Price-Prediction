{
 "cells": [
  {
   "cell_type": "code",
   "execution_count": 1,
   "id": "5a469fa9",
   "metadata": {},
   "outputs": [],
   "source": [
    "import pandas as pd\n",
    "import matplotlib.pyplot as plt\n",
    "import numpy as np\n",
    "from sklearn.preprocessing import MinMaxScaler"
   ]
  },
  {
   "cell_type": "code",
   "execution_count": 2,
   "id": "033974e9",
   "metadata": {},
   "outputs": [],
   "source": [
    "dataset = pd.read_csv(\"GOOG.csv\")"
   ]
  },
  {
   "cell_type": "code",
   "execution_count": 3,
   "id": "fc6913fc",
   "metadata": {},
   "outputs": [
    {
     "data": {
      "text/html": [
       "<div>\n",
       "<style scoped>\n",
       "    .dataframe tbody tr th:only-of-type {\n",
       "        vertical-align: middle;\n",
       "    }\n",
       "\n",
       "    .dataframe tbody tr th {\n",
       "        vertical-align: top;\n",
       "    }\n",
       "\n",
       "    .dataframe thead th {\n",
       "        text-align: right;\n",
       "    }\n",
       "</style>\n",
       "<table border=\"1\" class=\"dataframe\">\n",
       "  <thead>\n",
       "    <tr style=\"text-align: right;\">\n",
       "      <th></th>\n",
       "      <th>Date</th>\n",
       "      <th>Open</th>\n",
       "      <th>High</th>\n",
       "      <th>Low</th>\n",
       "      <th>Close</th>\n",
       "      <th>Adj Close</th>\n",
       "      <th>Volume</th>\n",
       "    </tr>\n",
       "  </thead>\n",
       "  <tbody>\n",
       "    <tr>\n",
       "      <th>0</th>\n",
       "      <td>2004-08-19</td>\n",
       "      <td>49.813290</td>\n",
       "      <td>51.835709</td>\n",
       "      <td>47.800831</td>\n",
       "      <td>49.982655</td>\n",
       "      <td>49.982655</td>\n",
       "      <td>44871361</td>\n",
       "    </tr>\n",
       "    <tr>\n",
       "      <th>1</th>\n",
       "      <td>2004-08-20</td>\n",
       "      <td>50.316402</td>\n",
       "      <td>54.336334</td>\n",
       "      <td>50.062355</td>\n",
       "      <td>53.952770</td>\n",
       "      <td>53.952770</td>\n",
       "      <td>22942874</td>\n",
       "    </tr>\n",
       "    <tr>\n",
       "      <th>2</th>\n",
       "      <td>2004-08-23</td>\n",
       "      <td>55.168217</td>\n",
       "      <td>56.528118</td>\n",
       "      <td>54.321388</td>\n",
       "      <td>54.495735</td>\n",
       "      <td>54.495735</td>\n",
       "      <td>18342897</td>\n",
       "    </tr>\n",
       "    <tr>\n",
       "      <th>3</th>\n",
       "      <td>2004-08-24</td>\n",
       "      <td>55.412300</td>\n",
       "      <td>55.591629</td>\n",
       "      <td>51.591621</td>\n",
       "      <td>52.239197</td>\n",
       "      <td>52.239197</td>\n",
       "      <td>15319808</td>\n",
       "    </tr>\n",
       "    <tr>\n",
       "      <th>4</th>\n",
       "      <td>2004-08-25</td>\n",
       "      <td>52.284027</td>\n",
       "      <td>53.798351</td>\n",
       "      <td>51.746044</td>\n",
       "      <td>52.802086</td>\n",
       "      <td>52.802086</td>\n",
       "      <td>9232276</td>\n",
       "    </tr>\n",
       "    <tr>\n",
       "      <th>...</th>\n",
       "      <td>...</td>\n",
       "      <td>...</td>\n",
       "      <td>...</td>\n",
       "      <td>...</td>\n",
       "      <td>...</td>\n",
       "      <td>...</td>\n",
       "      <td>...</td>\n",
       "    </tr>\n",
       "    <tr>\n",
       "      <th>4243</th>\n",
       "      <td>2021-06-28</td>\n",
       "      <td>2540.000000</td>\n",
       "      <td>2546.739990</td>\n",
       "      <td>2519.476074</td>\n",
       "      <td>2536.389893</td>\n",
       "      <td>2536.389893</td>\n",
       "      <td>1405500</td>\n",
       "    </tr>\n",
       "    <tr>\n",
       "      <th>4244</th>\n",
       "      <td>2021-06-29</td>\n",
       "      <td>2535.449951</td>\n",
       "      <td>2540.000000</td>\n",
       "      <td>2508.739990</td>\n",
       "      <td>2520.370117</td>\n",
       "      <td>2520.370117</td>\n",
       "      <td>1047500</td>\n",
       "    </tr>\n",
       "    <tr>\n",
       "      <th>4245</th>\n",
       "      <td>2021-06-30</td>\n",
       "      <td>2513.071045</td>\n",
       "      <td>2516.000000</td>\n",
       "      <td>2495.149902</td>\n",
       "      <td>2506.320068</td>\n",
       "      <td>2506.320068</td>\n",
       "      <td>1200300</td>\n",
       "    </tr>\n",
       "    <tr>\n",
       "      <th>4246</th>\n",
       "      <td>2021-07-01</td>\n",
       "      <td>2496.995117</td>\n",
       "      <td>2529.250000</td>\n",
       "      <td>2496.995117</td>\n",
       "      <td>2527.370117</td>\n",
       "      <td>2527.370117</td>\n",
       "      <td>856000</td>\n",
       "    </tr>\n",
       "    <tr>\n",
       "      <th>4247</th>\n",
       "      <td>2021-07-02</td>\n",
       "      <td>2536.790039</td>\n",
       "      <td>2576.959961</td>\n",
       "      <td>2535.379883</td>\n",
       "      <td>2574.379883</td>\n",
       "      <td>2574.379883</td>\n",
       "      <td>1058000</td>\n",
       "    </tr>\n",
       "  </tbody>\n",
       "</table>\n",
       "<p>4248 rows × 7 columns</p>\n",
       "</div>"
      ],
      "text/plain": [
       "            Date         Open         High          Low        Close  \\\n",
       "0     2004-08-19    49.813290    51.835709    47.800831    49.982655   \n",
       "1     2004-08-20    50.316402    54.336334    50.062355    53.952770   \n",
       "2     2004-08-23    55.168217    56.528118    54.321388    54.495735   \n",
       "3     2004-08-24    55.412300    55.591629    51.591621    52.239197   \n",
       "4     2004-08-25    52.284027    53.798351    51.746044    52.802086   \n",
       "...          ...          ...          ...          ...          ...   \n",
       "4243  2021-06-28  2540.000000  2546.739990  2519.476074  2536.389893   \n",
       "4244  2021-06-29  2535.449951  2540.000000  2508.739990  2520.370117   \n",
       "4245  2021-06-30  2513.071045  2516.000000  2495.149902  2506.320068   \n",
       "4246  2021-07-01  2496.995117  2529.250000  2496.995117  2527.370117   \n",
       "4247  2021-07-02  2536.790039  2576.959961  2535.379883  2574.379883   \n",
       "\n",
       "        Adj Close    Volume  \n",
       "0       49.982655  44871361  \n",
       "1       53.952770  22942874  \n",
       "2       54.495735  18342897  \n",
       "3       52.239197  15319808  \n",
       "4       52.802086   9232276  \n",
       "...           ...       ...  \n",
       "4243  2536.389893   1405500  \n",
       "4244  2520.370117   1047500  \n",
       "4245  2506.320068   1200300  \n",
       "4246  2527.370117    856000  \n",
       "4247  2574.379883   1058000  \n",
       "\n",
       "[4248 rows x 7 columns]"
      ]
     },
     "execution_count": 3,
     "metadata": {},
     "output_type": "execute_result"
    }
   ],
   "source": [
    "dataset"
   ]
  },
  {
   "cell_type": "code",
   "execution_count": 4,
   "id": "3030c323",
   "metadata": {},
   "outputs": [
    {
     "data": {
      "text/plain": [
       "(4248, 7)"
      ]
     },
     "execution_count": 4,
     "metadata": {},
     "output_type": "execute_result"
    }
   ],
   "source": [
    "dataset.shape"
   ]
  },
  {
   "cell_type": "code",
   "execution_count": 5,
   "id": "ffa61956",
   "metadata": {},
   "outputs": [],
   "source": [
    "dataset = dataset['Open']"
   ]
  },
  {
   "cell_type": "code",
   "execution_count": 6,
   "id": "3e6d9868",
   "metadata": {},
   "outputs": [],
   "source": [
    "dataset = np.array(dataset)"
   ]
  },
  {
   "cell_type": "code",
   "execution_count": 7,
   "id": "756efbd7",
   "metadata": {},
   "outputs": [
    {
     "data": {
      "text/plain": [
       "(4248,)"
      ]
     },
     "execution_count": 7,
     "metadata": {},
     "output_type": "execute_result"
    }
   ],
   "source": [
    "dataset.shape"
   ]
  },
  {
   "cell_type": "code",
   "execution_count": 8,
   "id": "0445a985",
   "metadata": {},
   "outputs": [],
   "source": [
    "dataset = dataset.reshape((-1,1))\n",
    "normalizer = MinMaxScaler(feature_range=(0,1))\n",
    "dataset = normalizer.fit_transform(dataset)"
   ]
  },
  {
   "cell_type": "code",
   "execution_count": 9,
   "id": "341acf34",
   "metadata": {},
   "outputs": [
    {
     "data": {
      "text/plain": [
       "array([[1.61935801e-04],\n",
       "       [3.63854179e-04],\n",
       "       [2.31107590e-03],\n",
       "       ...,\n",
       "       [9.88762905e-01],\n",
       "       [9.82311011e-01],\n",
       "       [9.98282258e-01]])"
      ]
     },
     "execution_count": 9,
     "metadata": {},
     "output_type": "execute_result"
    }
   ],
   "source": [
    "dataset"
   ]
  },
  {
   "cell_type": "code",
   "execution_count": 10,
   "id": "42850e8b",
   "metadata": {},
   "outputs": [
    {
     "data": {
      "text/plain": [
       "(4248, 1)"
      ]
     },
     "execution_count": 10,
     "metadata": {},
     "output_type": "execute_result"
    }
   ],
   "source": [
    "dataset.shape"
   ]
  },
  {
   "cell_type": "code",
   "execution_count": 11,
   "id": "9b216d31",
   "metadata": {},
   "outputs": [
    {
     "data": {
      "text/plain": [
       "[<matplotlib.lines.Line2D at 0x7fca423bf1d0>]"
      ]
     },
     "execution_count": 11,
     "metadata": {},
     "output_type": "execute_result"
    },
    {
     "data": {
      "image/png": "[encoded data removed]",
      "text/plain": [
       "<Figure size 432x288 with 1 Axes>"
      ]
     },
     "metadata": {
      "needs_background": "light"
     },
     "output_type": "display_data"
    }
   ],
   "source": [
    "plt.plot(dataset)"
   ]
  },
  {
   "cell_type": "code",
   "execution_count": 12,
   "id": "ec0b5141",
   "metadata": {},
   "outputs": [],
   "source": [
    "training_dataset = dataset[:4000]"
   ]
  },
  {
   "cell_type": "code",
   "execution_count": 13,
   "id": "fe72d60a",
   "metadata": {},
   "outputs": [
    {
     "data": {
      "text/plain": [
       "(4000, 1)"
      ]
     },
     "execution_count": 13,
     "metadata": {},
     "output_type": "execute_result"
    }
   ],
   "source": [
    "training_dataset.shape"
   ]
  },
  {
   "cell_type": "code",
   "execution_count": 14,
   "id": "196eaf58",
   "metadata": {},
   "outputs": [],
   "source": [
    "testing_dataset = dataset[4000:]"
   ]
  },
  {
   "cell_type": "code",
   "execution_count": 15,
   "id": "c8fc7e24",
   "metadata": {},
   "outputs": [
    {
     "data": {
      "text/plain": [
       "(248, 1)"
      ]
     },
     "execution_count": 15,
     "metadata": {},
     "output_type": "execute_result"
    }
   ],
   "source": [
    "testing_dataset.shape"
   ]
  },
  {
   "cell_type": "code",
   "execution_count": 16,
   "id": "49aedff0",
   "metadata": {},
   "outputs": [
    {
     "data": {
      "text/plain": [
       "[<matplotlib.lines.Line2D at 0x7fca3a24c710>]"
      ]
     },
     "execution_count": 16,
     "metadata": {},
     "output_type": "execute_result"
    },
    {
     "data": {
      "image/png": "[encoded data removed]",
      "text/plain": [
       "<Figure size 432x288 with 1 Axes>"
      ]
     },
     "metadata": {
      "needs_background": "light"
     },
     "output_type": "display_data"
    }
   ],
   "source": [
    "plt.plot(training_dataset)"
   ]
  },
  {
   "cell_type": "code",
   "execution_count": 17,
   "id": "3d66aeff",
   "metadata": {},
   "outputs": [
    {
     "data": {
      "text/plain": [
       "[<matplotlib.lines.Line2D at 0x7fca3a24ca90>]"
      ]
     },
     "execution_count": 17,
     "metadata": {},
     "output_type": "execute_result"
    },
    {
     "data": {
      "image/png": "[encoded data removed]",
      "text/plain": [
       "<Figure size 432x288 with 1 Axes>"
      ]
     },
     "metadata": {
      "needs_background": "light"
     },
     "output_type": "display_data"
    }
   ],
   "source": [
    "plt.plot(testing_dataset)"
   ]
  },
  {
   "cell_type": "code",
   "execution_count": 18,
   "id": "e0b8b219",
   "metadata": {},
   "outputs": [],
   "source": [
    "def create_dataset(data,step):\n",
    "    x=[]\n",
    "    y=[]\n",
    "    for i in range(len(data)-step):\n",
    "        x.append(data[i:i+step])\n",
    "        y.append(data[i+step])\n",
    "    return np.array(x),np.array(y)\n",
    "        "
   ]
  },
  {
   "cell_type": "code",
   "execution_count": 19,
   "id": "06096250",
   "metadata": {},
   "outputs": [],
   "source": [
    "trainX , trainY = create_dataset(training_dataset,60)"
   ]
  },
  {
   "cell_type": "code",
   "execution_count": 20,
   "id": "d4c3bf4b",
   "metadata": {},
   "outputs": [
    {
     "data": {
      "text/plain": [
       "(3940, 60, 1)"
      ]
     },
     "execution_count": 20,
     "metadata": {},
     "output_type": "execute_result"
    }
   ],
   "source": [
    "trainX.shape"
   ]
  },
  {
   "cell_type": "code",
   "execution_count": 21,
   "id": "0bc674c5",
   "metadata": {},
   "outputs": [
    {
     "data": {
      "text/plain": [
       "(3940, 1)"
      ]
     },
     "execution_count": 21,
     "metadata": {},
     "output_type": "execute_result"
    }
   ],
   "source": [
    "trainY.shape"
   ]
  },
  {
   "cell_type": "code",
   "execution_count": 22,
   "id": "4541fdf1",
   "metadata": {},
   "outputs": [],
   "source": [
    "testX , testY = create_dataset(testing_dataset,60)"
   ]
  },
  {
   "cell_type": "code",
   "execution_count": 23,
   "id": "ed7512d3",
   "metadata": {},
   "outputs": [],
   "source": [
    "from keras import Sequential\n",
    "from keras.layers import Dense\n",
    "from keras.layers import LSTM"
   ]
  },
  {
   "cell_type": "code",
   "execution_count": 24,
   "id": "18511ff6",
   "metadata": {},
   "outputs": [],
   "source": [
    "model = Sequential()"
   ]
  },
  {
   "cell_type": "code",
   "execution_count": 25,
   "id": "ef4ab55e",
   "metadata": {},
   "outputs": [],
   "source": [
    "model.add(LSTM(units=60,return_sequences=True,input_shape=(60,1)))"
   ]
  },
  {
   "cell_type": "code",
   "execution_count": 26,
   "id": "7c92b8bd",
   "metadata": {},
   "outputs": [
    {
     "data": {
      "text/plain": [
       "{'name': 'sequential',\n",
       " 'layers': [{'class_name': 'InputLayer',\n",
       "   'config': {'batch_input_shape': (None, 60, 1),\n",
       "    'dtype': 'float32',\n",
       "    'sparse': False,\n",
       "    'ragged': False,\n",
       "    'name': 'lstm_input'}},\n",
       "  {'class_name': 'LSTM',\n",
       "   'config': {'name': 'lstm',\n",
       "    'trainable': True,\n",
       "    'batch_input_shape': (None, 60, 1),\n",
       "    'dtype': 'float32',\n",
       "    'return_sequences': True,\n",
       "    'return_state': False,\n",
       "    'go_backwards': False,\n",
       "    'stateful': False,\n",
       "    'unroll': False,\n",
       "    'time_major': False,\n",
       "    'units': 60,\n",
       "    'activation': 'tanh',\n",
       "    'recurrent_activation': 'sigmoid',\n",
       "    'use_bias': True,\n",
       "    'kernel_initializer': {'class_name': 'GlorotUniform',\n",
       "     'config': {'seed': None}},\n",
       "    'recurrent_initializer': {'class_name': 'Orthogonal',\n",
       "     'config': {'gain': 1.0, 'seed': None}},\n",
       "    'bias_initializer': {'class_name': 'Zeros', 'config': {}},\n",
       "    'unit_forget_bias': True,\n",
       "    'kernel_regularizer': None,\n",
       "    'recurrent_regularizer': None,\n",
       "    'bias_regularizer': None,\n",
       "    'activity_regularizer': None,\n",
       "    'kernel_constraint': None,\n",
       "    'recurrent_constraint': None,\n",
       "    'bias_constraint': None,\n",
       "    'dropout': 0.0,\n",
       "    'recurrent_dropout': 0.0,\n",
       "    'implementation': 2}}]}"
      ]
     },
     "execution_count": 26,
     "metadata": {},
     "output_type": "execute_result"
    }
   ],
   "source": [
    "model.get_config()"
   ]
  },
  {
   "cell_type": "code",
   "execution_count": 27,
   "id": "20e42c3f",
   "metadata": {},
   "outputs": [],
   "source": [
    "model.add(LSTM(units=60,return_sequences=True))"
   ]
  },
  {
   "cell_type": "code",
   "execution_count": 28,
   "id": "c88768e7",
   "metadata": {},
   "outputs": [],
   "source": [
    "model.add(LSTM(units=60))"
   ]
  },
  {
   "cell_type": "code",
   "execution_count": 29,
   "id": "17025668",
   "metadata": {},
   "outputs": [],
   "source": [
    "model.add(Dense(units=1,activation=\"linear\"))"
   ]
  },
  {
   "cell_type": "code",
   "execution_count": 30,
   "id": "9325e6e3",
   "metadata": {},
   "outputs": [],
   "source": [
    "model.compile(loss='mean_squared_error',optimizer=\"adam\")"
   ]
  },
  {
   "cell_type": "code",
   "execution_count": null,
   "id": "1450a2e1",
   "metadata": {},
   "outputs": [
    {
     "name": "stdout",
     "output_type": "stream",
     "text": [
      "Epoch 1/20\n",
      "124/124 [==============================] - 38s 226ms/step - loss: 0.0059\n",
      "Epoch 2/20\n",
      " 58/124 [=============>................] - ETA: 14s - loss: 1.4592e-04"
     ]
    }
   ],
   "source": [
    "model.fit(trainX,trainY,epochs=20)"
   ]
  },
  {
   "cell_type": "code",
   "execution_count": null,
   "id": "7571c2d1",
   "metadata": {},
   "outputs": [],
   "source": [
    "loss = model.history.history[\"loss\"]"
   ]
  },
  {
   "cell_type": "code",
   "execution_count": null,
   "id": "21f04f4f",
   "metadata": {},
   "outputs": [],
   "source": [
    "plt.plot(loss)"
   ]
  },
  {
   "cell_type": "code",
   "execution_count": null,
   "id": "4c182f48",
   "metadata": {},
   "outputs": [],
   "source": [
    "train_predict = model.predict(t)"
   ]
  },
  {
   "cell_type": "code",
   "execution_count": null,
   "id": "5a4ad97b",
   "metadata": {},
   "outputs": [],
   "source": []
  },
  {
   "cell_type": "code",
   "execution_count": null,
   "id": "ec180720",
   "metadata": {},
   "outputs": [],
   "source": []
  }
 ],
 "metadata": {
  "kernelspec": {
   "display_name": "Python 3",
   "language": "python",
   "name": "python3"
  },
  "language_info": {
   "codemirror_mode": {
    "name": "ipython",
    "version": 3
   },
   "file_extension": ".py",
   "mimetype": "text/x-python",
   "name": "python",
   "nbconvert_exporter": "python",
   "pygments_lexer": "ipython3",
   "version": "3.7.10"
  }
 },
 "nbformat": 4,
 "nbformat_minor": 5
}
